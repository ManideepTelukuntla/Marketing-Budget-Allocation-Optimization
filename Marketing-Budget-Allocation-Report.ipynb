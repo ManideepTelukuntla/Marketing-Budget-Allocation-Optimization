{
 "cells": [
  {
   "cell_type": "markdown",
   "metadata": {},
   "source": [
    "# Optimization Project 1 – Linear Programming\n",
    "## Marketing Budget Allocation"
   ]
  },
  {
   "cell_type": "markdown",
   "metadata": {},
   "source": [
    "## Team\n",
    "\n",
    "<pre>\n",
    "<b>Name:</b> Manideep Telukuntla     <b>UT EID:</b> mt39528\n",
    "<b>Name:</b> Krittika Deshwal        <b>UT EID:</b> kd29275\n",
    "<b>Name:</b> David Gong              <b>UT EID:</b> dg38767\n",
    "<b>Name:</b> Teja Sirigina           <b>UT EID:</b> ts37662\n",
    "</pre>"
   ]
  },
  {
   "cell_type": "code",
   "execution_count": 109,
   "metadata": {},
   "outputs": [],
   "source": [
    "# import statements\n",
    "import numpy as np\n",
    "import pandas as pd\n",
    "import gurobipy as gp\n",
    "import matplotlib.pyplot as plt\n",
    "import seaborn as sns"
   ]
  },
  {
   "cell_type": "markdown",
   "metadata": {},
   "source": [
    "## Part 1, 2, & 3\n",
    "\n",
    "Assume that your company is deciding how to spend a marketing budget of $10M. You work in the marketing department as a data scientist and the chief marketing officer has asked you write a report recommending how to spread this budget among several marketing mediums. Your department has employed an outside consulting firm to estimate the return on investment (ROI) of each marketing medium under consideration. The results are in the table below, and also in a CSV attached to this assignment:\n",
    "\n",
    "On top of these ROIs, your boss has decided to constrain your budget as follows:  \n",
    "- The amount invested in print and TV should be no more than the amount spent on Facebook and Email. Surprisingly, email seems to be a great channel for reaching real people.\n",
    "- The total amount used in social media (Facebook, LinkedIn, Instagram, Snapchat, and Twitter) should be at least twice of SEO and AdWords.\n",
    "- For each platform, the amount invested should be no more than $3M.\n",
    "\n",
    "Formulate the marketing budget allocation problem as a linear program. Use gurobi to find the\n",
    "optimal budget allocation."
   ]
  },
  {
   "cell_type": "code",
   "execution_count": 110,
   "metadata": {},
   "outputs": [],
   "source": [
    "# Read csv file\n",
    "roi_df = pd.read_csv('ROI_data.csv')"
   ]
  },
  {
   "cell_type": "code",
   "execution_count": 111,
   "metadata": {},
   "outputs": [],
   "source": [
    "# Specify number of decision variables and assign names\n",
    "adver_mod_x_1 = adver_mod_1.addMVar(len(var_names), ub=3, name=var_names)"
   ]
  },
  {
   "cell_type": "code",
   "execution_count": 112,
   "metadata": {},
   "outputs": [
    {
     "data": {
      "text/html": [
       "<div>\n",
       "<style scoped>\n",
       "    .dataframe tbody tr th:only-of-type {\n",
       "        vertical-align: middle;\n",
       "    }\n",
       "\n",
       "    .dataframe tbody tr th {\n",
       "        vertical-align: top;\n",
       "    }\n",
       "\n",
       "    .dataframe thead th {\n",
       "        text-align: right;\n",
       "    }\n",
       "</style>\n",
       "<table border=\"1\" class=\"dataframe\">\n",
       "  <thead>\n",
       "    <tr style=\"text-align: right;\">\n",
       "      <th></th>\n",
       "      <th>print</th>\n",
       "      <th>tv</th>\n",
       "      <th>seo</th>\n",
       "      <th>adwords</th>\n",
       "      <th>facebook</th>\n",
       "      <th>linkedin</th>\n",
       "      <th>instagram</th>\n",
       "      <th>snapchat</th>\n",
       "      <th>twitter</th>\n",
       "      <th>email</th>\n",
       "      <th>objective value</th>\n",
       "    </tr>\n",
       "  </thead>\n",
       "  <tbody>\n",
       "    <tr>\n",
       "      <th>0</th>\n",
       "      <td>0.0</td>\n",
       "      <td>3.0</td>\n",
       "      <td>0.0</td>\n",
       "      <td>1.0</td>\n",
       "      <td>0.0</td>\n",
       "      <td>0.0</td>\n",
       "      <td>3.0</td>\n",
       "      <td>0.0</td>\n",
       "      <td>0.0</td>\n",
       "      <td>3.0</td>\n",
       "      <td>0.456</td>\n",
       "    </tr>\n",
       "  </tbody>\n",
       "</table>\n",
       "</div>"
      ],
      "text/plain": [
       "   print   tv  seo  adwords  facebook  linkedin  instagram  snapchat  twitter  \\\n",
       "0    0.0  3.0  0.0      1.0       0.0       0.0        3.0       0.0      0.0   \n",
       "\n",
       "   email  objective value  \n",
       "0    3.0            0.456  "
      ]
     },
     "execution_count": 112,
     "metadata": {},
     "output_type": "execute_result"
    }
   ],
   "source": [
    "# budget\n",
    "budget = 10\n",
    "\n",
    "# Convert column names to lowercase for case-insensitive matching\n",
    "roi_df.columns = roi_df.columns.str.lower()\n",
    "\n",
    "# Extract column names for decision variables\n",
    "var_names = roi_df.columns[1:].tolist()\n",
    "\n",
    "# Create an empty dataframe to store results\n",
    "results_df = pd.DataFrame(columns=var_names + ['objective value'])\n",
    "\n",
    "# Create a dictionary mapping column names to their respective ROI values\n",
    "roi_dict_1 = dict(zip(var_names, roi_df.iloc[0][1:].values))\n",
    "\n",
    "# Initiate model\n",
    "adver_mod_1 = gp.Model()\n",
    "\n",
    "# Specify number of decision variables and assign names\n",
    "adver_mod_x_1 = adver_mod_1.addMVar(len(var_names), ub=3, name=var_names)\n",
    "\n",
    "# Create a dictionary to map variable names to the decision variable objects\n",
    "var_dict = {name: adver_mod_x_1[j] for j, name in enumerate(var_names)}\n",
    "\n",
    "# Set objective using the roi_dict\n",
    "adver_mod_1.setObjective(gp.quicksum(roi_dict_1[name] * var_dict[name] for name in var_names), sense=gp.GRB.MAXIMIZE)\n",
    "\n",
    "# Add constraints\n",
    "adver_mod_1.addConstr(gp.quicksum(var_dict[name] for name in var_names) <= budget)  # Marketing Budget\n",
    "adver_mod_1.addConstr(var_dict['print'] + var_dict['tv'] - var_dict['facebook'] - var_dict['email'] <= 0)  # Print & TV Budget Constraint\n",
    "adver_mod_1.addConstr(gp.quicksum(var_dict[social] for social in ['facebook', 'linkedin', 'instagram', 'snapchat', 'twitter'] if social in var_names ) >= 2 * var_dict['seo'] + 2 * var_dict['adwords'])  # Social Media Budget Constraint \n",
    "\n",
    "adver_mod_1.Params.OutputFlag = 0\n",
    "\n",
    "# Optimize the model\n",
    "adver_mod_1.optimize()\n",
    "\n",
    "optimal_allocations = list(adver_mod_x_1.x)\n",
    "optimal_objvalue = adver_mod_1.objVal\n",
    "\n",
    "# Append results to the dataframe\n",
    "results_df.loc[0] = optimal_allocations + [optimal_objvalue]\n",
    "\n",
    "results_df"
   ]
  },
  {
   "cell_type": "code",
   "execution_count": 113,
   "metadata": {},
   "outputs": [
    {
     "data": {
      "image/png": "[encoded data removed]",
      "text/plain": [
       "<Figure size 576x432 with 1 Axes>"
      ]
     },
     "metadata": {
      "needs_background": "light"
     },
     "output_type": "display_data"
    }
   ],
   "source": [
    "# Extract the first row and drop the 'objective value' column\n",
    "row1 = results_df.iloc[0].drop('objective value')\n",
    "\n",
    "base_color = sns.color_palette(\"coolwarm\", 10)[-2]\n",
    "highlight_color = sns.color_palette(\"coolwarm\", 10)[2]\n",
    "colors = [highlight_color if value == 3 else base_color for value in row1]\n",
    "\n",
    "# Plotting\n",
    "plt.figure(figsize=(8, 6))\n",
    "sns.barplot(y=row1.index, x=row1.values, palette=colors)\n",
    "\n",
    "plt.title('Investments for Each Platform (in Million)')\n",
    "plt.xlabel('Investment (in Million)')\n",
    "plt.ylabel('Platform')\n",
    "plt.xlim(0, 3)  # Set x-axis limit to 3 million\n",
    "plt.grid(axis='x', linestyle='--', alpha=0.7)\n",
    "\n",
    "sns.despine()\n",
    "\n",
    "# Display the plot\n",
    "plt.tight_layout()\n",
    "\n",
    "# plt.savefig(\"investment_plot_1.png\", format='png', dpi=300)\n",
    "\n",
    "plt.show()"
   ]
  },
  {
   "cell_type": "markdown",
   "metadata": {},
   "source": [
    "## Part 4\n",
    "\n",
    "Your boss is happy to see the promising results presented by the marketing department.However, your boss is also very concerned because your boss recalls being somewhat disappointed after following such recommendations in the past. To be cautious about the decision, your team has decided to get another opinion about the ROI data and rerun the analysis. The second consulting firm returns the estimates of the ROI data in the table below (also in the CSV file mentioned above). You are asked to compare the two optimal allocations from these two ROI estimates."
   ]
  },
  {
   "cell_type": "code",
   "execution_count": 114,
   "metadata": {},
   "outputs": [
    {
     "data": {
      "text/html": [
       "<div>\n",
       "<style scoped>\n",
       "    .dataframe tbody tr th:only-of-type {\n",
       "        vertical-align: middle;\n",
       "    }\n",
       "\n",
       "    .dataframe tbody tr th {\n",
       "        vertical-align: top;\n",
       "    }\n",
       "\n",
       "    .dataframe thead th {\n",
       "        text-align: right;\n",
       "    }\n",
       "</style>\n",
       "<table border=\"1\" class=\"dataframe\">\n",
       "  <thead>\n",
       "    <tr style=\"text-align: right;\">\n",
       "      <th></th>\n",
       "      <th>print</th>\n",
       "      <th>tv</th>\n",
       "      <th>seo</th>\n",
       "      <th>adwords</th>\n",
       "      <th>facebook</th>\n",
       "      <th>linkedin</th>\n",
       "      <th>instagram</th>\n",
       "      <th>snapchat</th>\n",
       "      <th>twitter</th>\n",
       "      <th>email</th>\n",
       "      <th>objective value</th>\n",
       "    </tr>\n",
       "  </thead>\n",
       "  <tbody>\n",
       "    <tr>\n",
       "      <th>0</th>\n",
       "      <td>0.0</td>\n",
       "      <td>3.0</td>\n",
       "      <td>0.0</td>\n",
       "      <td>1.0</td>\n",
       "      <td>0.0</td>\n",
       "      <td>0.0</td>\n",
       "      <td>3.0</td>\n",
       "      <td>0.0</td>\n",
       "      <td>0.0</td>\n",
       "      <td>3.0</td>\n",
       "      <td>0.456</td>\n",
       "    </tr>\n",
       "    <tr>\n",
       "      <th>1</th>\n",
       "      <td>3.0</td>\n",
       "      <td>0.0</td>\n",
       "      <td>0.0</td>\n",
       "      <td>1.0</td>\n",
       "      <td>3.0</td>\n",
       "      <td>3.0</td>\n",
       "      <td>0.0</td>\n",
       "      <td>0.0</td>\n",
       "      <td>0.0</td>\n",
       "      <td>0.0</td>\n",
       "      <td>0.456</td>\n",
       "    </tr>\n",
       "  </tbody>\n",
       "</table>\n",
       "</div>"
      ],
      "text/plain": [
       "   print   tv  seo  adwords  facebook  linkedin  instagram  snapchat  twitter  \\\n",
       "0    0.0  3.0  0.0      1.0       0.0       0.0        3.0       0.0      0.0   \n",
       "1    3.0  0.0  0.0      1.0       3.0       3.0        0.0       0.0      0.0   \n",
       "\n",
       "   email  objective value  \n",
       "0    3.0            0.456  \n",
       "1    0.0            0.456  "
      ]
     },
     "execution_count": 114,
     "metadata": {},
     "output_type": "execute_result"
    }
   ],
   "source": [
    "# budget\n",
    "budget = 10\n",
    "\n",
    "# Convert column names to lowercase for case-insensitive matching\n",
    "roi_df.columns = roi_df.columns.str.lower()\n",
    "\n",
    "# Extract column names for decision variables\n",
    "var_names = roi_df.columns[1:].tolist()\n",
    "\n",
    "# Create a dictionary mapping column names to their respective ROI values\n",
    "roi_dict_2 = dict(zip(var_names, roi_df.iloc[1][1:].values))\n",
    "\n",
    "# Initiate model\n",
    "adver_mod_2 = gp.Model()\n",
    "\n",
    "# Specify number of decision variables and assign names\n",
    "adver_mod_x_2 = adver_mod_2.addMVar(len(var_names), ub=3, name=var_names)\n",
    "\n",
    "# Create a dictionary to map variable names to the decision variable objects\n",
    "var_dict = {name: adver_mod_x_2[j] for j, name in enumerate(var_names)}\n",
    "\n",
    "# Set objective using the roi_dict\n",
    "adver_mod_2.setObjective(gp.quicksum(roi_dict_2[name] * var_dict[name] for name in var_names), sense=gp.GRB.MAXIMIZE)\n",
    "\n",
    "# Add constraints\n",
    "adver_mod_2.addConstr(gp.quicksum(var_dict[name] for name in var_names) <= budget)  # Marketing Budget\n",
    "adver_mod_2.addConstr(var_dict['print'] + var_dict['tv'] - var_dict['facebook'] - var_dict['email'] <= 0)  # Print & TV Budget Constraint\n",
    "adver_mod_2.addConstr(gp.quicksum(var_dict[social] for social in ['facebook', 'linkedin', 'instagram', 'snapchat', 'twitter'] if social in var_names ) >= 2 * var_dict['seo'] + 2 * var_dict['adwords'])  # Social Media Budget Constraint \n",
    "\n",
    "adver_mod_2.Params.OutputFlag = 0\n",
    "\n",
    "# Optimize the model\n",
    "adver_mod_2.optimize()\n",
    "\n",
    "optimal_allocations = list(adver_mod_x_2.x)\n",
    "optimal_objvalue = adver_mod_2.objVal\n",
    "\n",
    "# Append results to the dataframe\n",
    "results_df.loc[1] = optimal_allocations + [optimal_objvalue]\n",
    "\n",
    "results_df"
   ]
  },
  {
   "cell_type": "code",
   "execution_count": 115,
   "metadata": {},
   "outputs": [
    {
     "data": {
      "image/png": "[encoded data removed]",
      "text/plain": [
       "<Figure size 576x432 with 1 Axes>"
      ]
     },
     "metadata": {
      "needs_background": "light"
     },
     "output_type": "display_data"
    }
   ],
   "source": [
    "# Extract the first row and drop the 'objective value' column\n",
    "row2 = results_df.iloc[1].drop('objective value')\n",
    "\n",
    "base_color = sns.color_palette(\"coolwarm\", 10)[-2]\n",
    "highlight_color = sns.color_palette(\"coolwarm\", 10)[2]\n",
    "colors = [highlight_color if value == 3 else base_color for value in row2]\n",
    "\n",
    "# Plotting\n",
    "plt.figure(figsize=(8, 6))\n",
    "sns.barplot(y=row2.index, x=row2.values, palette=colors)\n",
    "\n",
    "plt.title('Investments for Each Platform (in Million)')\n",
    "plt.xlabel('Investment (in Million)')\n",
    "plt.ylabel('Platform')\n",
    "plt.xlim(0, 3)  # Set x-axis limit to 3 million\n",
    "plt.grid(axis='x', linestyle='--', alpha=0.7)\n",
    "\n",
    "sns.despine()\n",
    "\n",
    "# Display the plot\n",
    "plt.tight_layout()\n",
    "\n",
    "# plt.savefig(\"investment_plot_2.png\", format='png', dpi=300)\n",
    "\n",
    "plt.show()"
   ]
  },
  {
   "cell_type": "markdown",
   "metadata": {},
   "source": [
    "## Part 5\n",
    "\n",
    "Are the allocations the same? Assuming the first ROI data is correct, if you were to use the second allocation (the allocation that assumed the second ROI data was correct) how much lower would the objective be relative to the optimal objective (the one that uses the first ROI data and the first allocation)? Assuming the second ROI data is correct, if you used the first allocation how much lower would the objective be relative to the optimal objective? Do you think the third constraint above, based on your boss’ experience, is useful?"
   ]
  },
  {
   "cell_type": "code",
   "execution_count": 116,
   "metadata": {},
   "outputs": [
    {
     "data": {
      "text/plain": [
       "[0.093, 0.0, 0.0, 0.039, 0.048, 0.07200000000000001, 0.0, 0.0, 0.0, 0.0]"
      ]
     },
     "execution_count": 116,
     "metadata": {},
     "output_type": "execute_result"
    }
   ],
   "source": [
    "allocations_12 = list(adver_mod_x_2.x * list(roi_dict_1.values()))\n",
    "allocations_12"
   ]
  },
  {
   "cell_type": "code",
   "execution_count": 117,
   "metadata": {},
   "outputs": [
    {
     "data": {
      "text/plain": [
       "0.252"
      ]
     },
     "execution_count": 117,
     "metadata": {},
     "output_type": "execute_result"
    }
   ],
   "source": [
    "total_roi_12 = np.sum(adver_mod_x_2.x * list(roi_dict_1.values()))\n",
    "total_roi_12"
   ]
  },
  {
   "cell_type": "code",
   "execution_count": 118,
   "metadata": {},
   "outputs": [
    {
     "name": "stdout",
     "output_type": "stream",
     "text": [
      "Total ROI considering first ROI estimates is correct and the second budget allocation: $0.252 million\n",
      "Total ROI considering first ROI estimates is correct and the first budget allocation: $0.456 million\n",
      "Total ROI is lower by $0.204 than the optimal total ROI for first firm estimates\n"
     ]
    }
   ],
   "source": [
    "total_roi_1 = results_df['objective value'][0]\n",
    "\n",
    "print(f\"Total ROI considering first ROI estimates is correct and the second budget allocation: ${total_roi_12:.3f} million\")\n",
    "print(f\"Total ROI considering first ROI estimates is correct and the first budget allocation: ${total_roi_1:.3f} million\")\n",
    "\n",
    "# Difference in both the estimates\n",
    "print(f\"Total ROI is lower by ${(total_roi_1 - total_roi_12):.3f} than the optimal total ROI for first firm estimates\")"
   ]
  },
  {
   "cell_type": "code",
   "execution_count": 119,
   "metadata": {},
   "outputs": [
    {
     "data": {
      "text/plain": [
       "[0.0, 0.069, 0.0, 0.039, 0.0, 0.0, 0.078, 0.0, 0.0, 0.078]"
      ]
     },
     "execution_count": 119,
     "metadata": {},
     "output_type": "execute_result"
    }
   ],
   "source": [
    "allocations_21 = list(adver_mod_x_1.x * list(roi_dict_2.values()))\n",
    "allocations_21"
   ]
  },
  {
   "cell_type": "code",
   "execution_count": 120,
   "metadata": {},
   "outputs": [
    {
     "data": {
      "text/plain": [
       "0.264"
      ]
     },
     "execution_count": 120,
     "metadata": {},
     "output_type": "execute_result"
    }
   ],
   "source": [
    "total_roi_21 = np.sum(adver_mod_x_1.x * list(roi_dict_2.values()))\n",
    "total_roi_21"
   ]
  },
  {
   "cell_type": "code",
   "execution_count": 121,
   "metadata": {},
   "outputs": [
    {
     "name": "stdout",
     "output_type": "stream",
     "text": [
      "Total ROI considering second ROI estimates is correct and the first budget allocation: $0.264 million\n",
      "Total ROI considering second ROI estimates is correct and the second budget allocation: $0.456 million\n",
      "Total ROI is lower by $0.192 the the optimal total ROI for second firm estimates\n"
     ]
    }
   ],
   "source": [
    "total_roi_2 = results_df['objective value'][1]\n",
    "\n",
    "print(f\"Total ROI considering second ROI estimates is correct and the first budget allocation: ${total_roi_21:.3f} million\")\n",
    "print(f\"Total ROI considering second ROI estimates is correct and the second budget allocation: ${total_roi_2:.3f} million\")\n",
    "\n",
    "# Difference in both the estimates\n",
    "print(f\"Total ROI is lower by ${(total_roi_2 - total_roi_21):.3f} the the optimal total ROI for second firm estimates\")"
   ]
  },
  {
   "cell_type": "code",
   "execution_count": 122,
   "metadata": {},
   "outputs": [
    {
     "data": {
      "text/html": [
       "<div>\n",
       "<style scoped>\n",
       "    .dataframe tbody tr th:only-of-type {\n",
       "        vertical-align: middle;\n",
       "    }\n",
       "\n",
       "    .dataframe tbody tr th {\n",
       "        vertical-align: top;\n",
       "    }\n",
       "\n",
       "    .dataframe thead th {\n",
       "        text-align: right;\n",
       "    }\n",
       "</style>\n",
       "<table border=\"1\" class=\"dataframe\">\n",
       "  <thead>\n",
       "    <tr style=\"text-align: right;\">\n",
       "      <th></th>\n",
       "      <th>print</th>\n",
       "      <th>tv</th>\n",
       "      <th>seo</th>\n",
       "      <th>adwords</th>\n",
       "      <th>facebook</th>\n",
       "      <th>linkedin</th>\n",
       "      <th>instagram</th>\n",
       "      <th>snapchat</th>\n",
       "      <th>twitter</th>\n",
       "      <th>email</th>\n",
       "      <th>objective value</th>\n",
       "    </tr>\n",
       "  </thead>\n",
       "  <tbody>\n",
       "    <tr>\n",
       "      <th>0</th>\n",
       "      <td>0.0</td>\n",
       "      <td>5.0</td>\n",
       "      <td>0.0</td>\n",
       "      <td>0.0</td>\n",
       "      <td>0.0</td>\n",
       "      <td>0.0</td>\n",
       "      <td>0.0</td>\n",
       "      <td>0.0</td>\n",
       "      <td>0.0</td>\n",
       "      <td>5.0</td>\n",
       "      <td>0.465</td>\n",
       "    </tr>\n",
       "    <tr>\n",
       "      <th>1</th>\n",
       "      <td>5.0</td>\n",
       "      <td>0.0</td>\n",
       "      <td>0.0</td>\n",
       "      <td>0.0</td>\n",
       "      <td>5.0</td>\n",
       "      <td>0.0</td>\n",
       "      <td>0.0</td>\n",
       "      <td>0.0</td>\n",
       "      <td>0.0</td>\n",
       "      <td>0.0</td>\n",
       "      <td>0.465</td>\n",
       "    </tr>\n",
       "  </tbody>\n",
       "</table>\n",
       "</div>"
      ],
      "text/plain": [
       "   print   tv  seo  adwords  facebook  linkedin  instagram  snapchat  twitter  \\\n",
       "0    0.0  5.0  0.0      0.0       0.0       0.0        0.0       0.0      0.0   \n",
       "1    5.0  0.0  0.0      0.0       5.0       0.0        0.0       0.0      0.0   \n",
       "\n",
       "   email  objective value  \n",
       "0    5.0            0.465  \n",
       "1    0.0            0.465  "
      ]
     },
     "execution_count": 122,
     "metadata": {},
     "output_type": "execute_result"
    }
   ],
   "source": [
    "def optimize_allocation(roi_df, budget):\n",
    "    \n",
    "    # budget\n",
    "    budget = budget\n",
    "    \n",
    "    # Convert column names to lowercase for case-insensitive matching\n",
    "    roi_df.columns = roi_df.columns.str.lower()\n",
    "\n",
    "    # Extract column names for decision variables\n",
    "    var_names = roi_df.columns[1:].tolist()\n",
    "\n",
    "    # Create an empty dataframe to store results\n",
    "    results_df = pd.DataFrame(columns=var_names + ['objective value'])\n",
    "\n",
    "    for i in range(len(roi_df)):\n",
    "        # Create a dictionary mapping column names to their respective ROI values\n",
    "        roi_dict = dict(zip(var_names, roi_df.iloc[i][1:].values))\n",
    "        \n",
    "        # Initiate model\n",
    "        adver_mod = gp.Model()\n",
    "\n",
    "        # Specify number of decision variables and assign names\n",
    "        adver_mod_x = adver_mod.addMVar(len(var_names), name=var_names)\n",
    "        \n",
    "        # Create a dictionary to map variable names to the decision variable objects\n",
    "        var_dict = {name: adver_mod_x[j] for j, name in enumerate(var_names)}\n",
    "        \n",
    "        # Set objective using the roi_dict\n",
    "        adver_mod.setObjective(gp.quicksum(roi_dict[name] * var_dict[name] for name in var_names), sense=gp.GRB.MAXIMIZE)\n",
    "\n",
    "        # Add constraints\n",
    "        adver_mod.addConstr(gp.quicksum(var_dict[name] for name in var_names) <= budget)  # Marketing Budget\n",
    "        adver_mod.addConstr(var_dict['print'] + var_dict['tv'] - var_dict['facebook'] - var_dict['email'] <= 0)  # Print & TV Budget Constraint\n",
    "        adver_mod.addConstr(gp.quicksum(var_dict[social] for social in ['facebook', 'linkedin', 'instagram', 'snapchat', 'twitter'] if social in var_names ) >= 2 * var_dict['seo'] + 2 * var_dict['adwords'])  # Social Media Budget Constraint \n",
    "        \n",
    "        adver_mod.Params.OutputFlag = 0\n",
    "        \n",
    "        # Optimize the model\n",
    "        adver_mod.optimize()\n",
    "        \n",
    "        optimal_allocations = list(adver_mod_x.x)\n",
    "        optimal_objvalue = adver_mod.objVal\n",
    "\n",
    "        # Append results to the dataframe\n",
    "        results_df.loc[i] = optimal_allocations + [optimal_objvalue]\n",
    "\n",
    "    return results_df\n",
    "\n",
    "roi_df = pd.read_csv('ROI_data.csv')\n",
    "results = optimize_allocation(roi_df, 10)\n",
    "results"
   ]
  },
  {
   "cell_type": "code",
   "execution_count": 123,
   "metadata": {},
   "outputs": [
    {
     "name": "stdout",
     "output_type": "stream",
     "text": [
      "Total ROI considering first firm estimates: $0.456 million\n",
      "Total ROI considering first firm estimates ignoring third condition: $0.465 million\n"
     ]
    }
   ],
   "source": [
    "total_roi_1_without_ub = results['objective value'][0]\n",
    "\n",
    "print(f\"Total ROI considering first firm estimates: ${total_roi_1:.3f} million\")\n",
    "print(f\"Total ROI considering first firm estimates ignoring third condition: ${total_roi_1_without_ub:.3f} million\")"
   ]
  },
  {
   "cell_type": "code",
   "execution_count": 124,
   "metadata": {},
   "outputs": [
    {
     "name": "stdout",
     "output_type": "stream",
     "text": [
      "Total ROI considering second firm estimates: $0.456 million\n",
      "Total ROI considering second firm estimates ignoring third condition: $0.465 million\n"
     ]
    }
   ],
   "source": [
    "total_roi_2_without_ub = results['objective value'][1]\n",
    "\n",
    "print(f\"Total ROI considering second firm estimates: ${total_roi_2:.3f} million\")\n",
    "print(f\"Total ROI considering second firm estimates ignoring third condition: ${total_roi_2_without_ub:.3f} million\")"
   ]
  },
  {
   "cell_type": "code",
   "execution_count": 125,
   "metadata": {
    "scrolled": true
   },
   "outputs": [
    {
     "name": "stdout",
     "output_type": "stream",
     "text": [
      "Difference between Total ROI for first firm without and with third condition:$0.00900 million\n",
      "Difference between Total ROI for second firm without and with third condition:$0.00900 million\n"
     ]
    }
   ],
   "source": [
    "print(f\"Difference between Total ROI for first firm without and with third condition:${abs(total_roi_1 - total_roi_1_without_ub):.5f} million\")\n",
    "print(f\"Difference between Total ROI for second firm without and with third condition:${abs(total_roi_2 - total_roi_2_without_ub):.5f} million\")"
   ]
  },
  {
   "cell_type": "markdown",
   "metadata": {},
   "source": [
    "## Part 6 \n",
    "To explore this further perform some analysis of how your optimal allocation would change based on changes in the ROI data. Use the first ROI data as your starting point. By how much could each advertising medium’s ROI increase or decrease and still result in the same optimal allocation you found in step (3)?"
   ]
  },
  {
   "cell_type": "code",
   "execution_count": 126,
   "metadata": {},
   "outputs": [
    {
     "data": {
      "text/html": [
       "<div>\n",
       "<style scoped>\n",
       "    .dataframe tbody tr th:only-of-type {\n",
       "        vertical-align: middle;\n",
       "    }\n",
       "\n",
       "    .dataframe tbody tr th {\n",
       "        vertical-align: top;\n",
       "    }\n",
       "\n",
       "    .dataframe thead th {\n",
       "        text-align: right;\n",
       "    }\n",
       "</style>\n",
       "<table border=\"1\" class=\"dataframe\">\n",
       "  <thead>\n",
       "    <tr style=\"text-align: right;\">\n",
       "      <th></th>\n",
       "      <th>platform</th>\n",
       "      <th>print</th>\n",
       "      <th>tv</th>\n",
       "      <th>seo</th>\n",
       "      <th>adwords</th>\n",
       "      <th>facebook</th>\n",
       "      <th>linkedin</th>\n",
       "      <th>instagram</th>\n",
       "      <th>snapchat</th>\n",
       "      <th>twitter</th>\n",
       "      <th>email</th>\n",
       "    </tr>\n",
       "  </thead>\n",
       "  <tbody>\n",
       "    <tr>\n",
       "      <th>0</th>\n",
       "      <td>ROI</td>\n",
       "      <td>0.031</td>\n",
       "      <td>0.049</td>\n",
       "      <td>0.024</td>\n",
       "      <td>0.039</td>\n",
       "      <td>0.016</td>\n",
       "      <td>0.024</td>\n",
       "      <td>0.046</td>\n",
       "      <td>0.026</td>\n",
       "      <td>0.033</td>\n",
       "      <td>0.044</td>\n",
       "    </tr>\n",
       "    <tr>\n",
       "      <th>1</th>\n",
       "      <td>Second Firms ROI Estimate</td>\n",
       "      <td>0.049</td>\n",
       "      <td>0.023</td>\n",
       "      <td>0.024</td>\n",
       "      <td>0.039</td>\n",
       "      <td>0.044</td>\n",
       "      <td>0.046</td>\n",
       "      <td>0.026</td>\n",
       "      <td>0.019</td>\n",
       "      <td>0.037</td>\n",
       "      <td>0.026</td>\n",
       "    </tr>\n",
       "  </tbody>\n",
       "</table>\n",
       "</div>"
      ],
      "text/plain": [
       "                    platform  print     tv    seo  adwords  facebook  \\\n",
       "0                        ROI  0.031  0.049  0.024    0.039     0.016   \n",
       "1  Second Firms ROI Estimate  0.049  0.023  0.024    0.039     0.044   \n",
       "\n",
       "   linkedin  instagram  snapchat  twitter  email  \n",
       "0     0.024      0.046     0.026    0.033  0.044  \n",
       "1     0.046      0.026     0.019    0.037  0.026  "
      ]
     },
     "execution_count": 126,
     "metadata": {},
     "output_type": "execute_result"
    }
   ],
   "source": [
    "roi_df"
   ]
  },
  {
   "cell_type": "code",
   "execution_count": 127,
   "metadata": {},
   "outputs": [
    {
     "data": {
      "text/plain": [
       "print        0.031\n",
       "tv           0.049\n",
       "seo          0.024\n",
       "adwords      0.039\n",
       "facebook     0.016\n",
       "linkedin     0.024\n",
       "instagram    0.046\n",
       "snapchat     0.026\n",
       "twitter      0.033\n",
       "email        0.044\n",
       "Name: 0, dtype: object"
      ]
     },
     "execution_count": 127,
     "metadata": {},
     "output_type": "execute_result"
    }
   ],
   "source": [
    "roi_df.iloc[0][1:]"
   ]
  },
  {
   "cell_type": "code",
   "execution_count": 128,
   "metadata": {},
   "outputs": [
    {
     "data": {
      "text/plain": [
       "[0.0, 3.0, 0.0, 1.0, 0.0, 0.0, 3.0, 0.0, 0.0, 3.0]"
      ]
     },
     "execution_count": 128,
     "metadata": {},
     "output_type": "execute_result"
    }
   ],
   "source": [
    "list(adver_mod_x_1.x)"
   ]
  },
  {
   "cell_type": "code",
   "execution_count": 129,
   "metadata": {},
   "outputs": [
    {
     "data": {
      "text/plain": [
       "[-inf, 0.039, -inf, 0.033, -inf, -inf, 0.039, -inf, -inf, 0.028999999999999998]"
      ]
     },
     "execution_count": 129,
     "metadata": {},
     "output_type": "execute_result"
    }
   ],
   "source": [
    "lower_bounds_1 = list(adver_mod_x_1.SAObjLow)\n",
    "lower_bounds_1"
   ]
  },
  {
   "cell_type": "code",
   "execution_count": 130,
   "metadata": {},
   "outputs": [
    {
     "data": {
      "text/plain": [
       "[0.049,\n",
       " 0.062,\n",
       " 0.039,\n",
       " 0.046,\n",
       " 0.028999999999999998,\n",
       " 0.039,\n",
       " inf,\n",
       " 0.039,\n",
       " 0.039,\n",
       " inf]"
      ]
     },
     "execution_count": 130,
     "metadata": {},
     "output_type": "execute_result"
    }
   ],
   "source": [
    "upper_bounds_1 = list(adver_mod_x_1.SAObjUp)\n",
    "upper_bounds_1"
   ]
  },
  {
   "cell_type": "code",
   "execution_count": 131,
   "metadata": {},
   "outputs": [
    {
     "data": {
      "text/html": [
       "<div>\n",
       "<style scoped>\n",
       "    .dataframe tbody tr th:only-of-type {\n",
       "        vertical-align: middle;\n",
       "    }\n",
       "\n",
       "    .dataframe tbody tr th {\n",
       "        vertical-align: top;\n",
       "    }\n",
       "\n",
       "    .dataframe thead th {\n",
       "        text-align: right;\n",
       "    }\n",
       "</style>\n",
       "<table border=\"1\" class=\"dataframe\">\n",
       "  <thead>\n",
       "    <tr style=\"text-align: right;\">\n",
       "      <th></th>\n",
       "      <th>print</th>\n",
       "      <th>tv</th>\n",
       "      <th>seo</th>\n",
       "      <th>adwords</th>\n",
       "      <th>facebook</th>\n",
       "      <th>linkedin</th>\n",
       "      <th>instagram</th>\n",
       "      <th>snapchat</th>\n",
       "      <th>twitter</th>\n",
       "      <th>email</th>\n",
       "    </tr>\n",
       "  </thead>\n",
       "  <tbody>\n",
       "    <tr>\n",
       "      <th>lower bounds</th>\n",
       "      <td>-inf</td>\n",
       "      <td>0.039</td>\n",
       "      <td>-inf</td>\n",
       "      <td>0.033</td>\n",
       "      <td>-inf</td>\n",
       "      <td>-inf</td>\n",
       "      <td>0.039</td>\n",
       "      <td>-inf</td>\n",
       "      <td>-inf</td>\n",
       "      <td>0.029</td>\n",
       "    </tr>\n",
       "    <tr>\n",
       "      <th>upper bounds</th>\n",
       "      <td>0.049</td>\n",
       "      <td>0.062</td>\n",
       "      <td>0.039</td>\n",
       "      <td>0.046</td>\n",
       "      <td>0.029</td>\n",
       "      <td>0.039</td>\n",
       "      <td>inf</td>\n",
       "      <td>0.039</td>\n",
       "      <td>0.039</td>\n",
       "      <td>inf</td>\n",
       "    </tr>\n",
       "  </tbody>\n",
       "</table>\n",
       "</div>"
      ],
      "text/plain": [
       "              print     tv    seo  adwords  facebook  linkedin  instagram  \\\n",
       "lower bounds   -inf  0.039   -inf    0.033      -inf      -inf      0.039   \n",
       "upper bounds  0.049  0.062  0.039    0.046     0.029     0.039        inf   \n",
       "\n",
       "              snapchat  twitter  email  \n",
       "lower bounds      -inf     -inf  0.029  \n",
       "upper bounds     0.039    0.039    inf  "
      ]
     },
     "execution_count": 131,
     "metadata": {},
     "output_type": "execute_result"
    }
   ],
   "source": [
    "# Convert lists to dataframes\n",
    "lower_df = pd.DataFrame([lower_bounds_1], columns=roi_df.columns[1:], index=['lower bounds'])\n",
    "upper_df = pd.DataFrame([upper_bounds_1], columns=roi_df.columns[1:], index=['upper bounds'])\n",
    "\n",
    "# Concatenate the two dataframes\n",
    "sensitivity_analysis_df = pd.concat([lower_df, upper_df])\n",
    "sensitivity_analysis_df"
   ]
  },
  {
   "cell_type": "markdown",
   "metadata": {},
   "source": [
    "## Part 7\n",
    "\n",
    "Your boss has gained permission to reinvest half of the return. For example, if the marketing obtains a 4% return in January, the budget of February will be calculated as follows:\n",
    "\n",
    "$$\n",
    "\\$10M + (\\$10M \\times 4\\% \\times 50\\%) = \\$10.2M\n",
    "$$\n",
    "\n",
    "The monthly ROI for next year is provided in the attached CSV file. The three constraints outlined by your boss are still applicable for each month. The question we aim to answer is: \n",
    "\n",
    "**What is the optimal allocation for each month?**\n"
   ]
  },
  {
   "cell_type": "code",
   "execution_count": 132,
   "metadata": {},
   "outputs": [],
   "source": [
    "monthly_roi_df = pd.read_csv('roi_mat.csv')"
   ]
  },
  {
   "cell_type": "code",
   "execution_count": 133,
   "metadata": {},
   "outputs": [
    {
     "data": {
      "text/html": [
       "<div>\n",
       "<style scoped>\n",
       "    .dataframe tbody tr th:only-of-type {\n",
       "        vertical-align: middle;\n",
       "    }\n",
       "\n",
       "    .dataframe tbody tr th {\n",
       "        vertical-align: top;\n",
       "    }\n",
       "\n",
       "    .dataframe thead th {\n",
       "        text-align: right;\n",
       "    }\n",
       "</style>\n",
       "<table border=\"1\" class=\"dataframe\">\n",
       "  <thead>\n",
       "    <tr style=\"text-align: right;\">\n",
       "      <th></th>\n",
       "      <th>Unnamed: 0</th>\n",
       "      <th>Print</th>\n",
       "      <th>TV</th>\n",
       "      <th>SEO</th>\n",
       "      <th>AdWords</th>\n",
       "      <th>Facebook</th>\n",
       "      <th>LinkedIn</th>\n",
       "      <th>Instagram</th>\n",
       "      <th>Snapchat</th>\n",
       "      <th>Twitter</th>\n",
       "      <th>Email</th>\n",
       "    </tr>\n",
       "  </thead>\n",
       "  <tbody>\n",
       "    <tr>\n",
       "      <th>0</th>\n",
       "      <td>January</td>\n",
       "      <td>4.0</td>\n",
       "      <td>3.6</td>\n",
       "      <td>2.4</td>\n",
       "      <td>3.9</td>\n",
       "      <td>3.0</td>\n",
       "      <td>3.5</td>\n",
       "      <td>3.6</td>\n",
       "      <td>2.25</td>\n",
       "      <td>3.5</td>\n",
       "      <td>3.5</td>\n",
       "    </tr>\n",
       "    <tr>\n",
       "      <th>1</th>\n",
       "      <td>February</td>\n",
       "      <td>4.0</td>\n",
       "      <td>3.9</td>\n",
       "      <td>2.7</td>\n",
       "      <td>3.8</td>\n",
       "      <td>4.3</td>\n",
       "      <td>3.2</td>\n",
       "      <td>2.7</td>\n",
       "      <td>1.80</td>\n",
       "      <td>3.7</td>\n",
       "      <td>3.5</td>\n",
       "    </tr>\n",
       "    <tr>\n",
       "      <th>2</th>\n",
       "      <td>March</td>\n",
       "      <td>3.5</td>\n",
       "      <td>2.9</td>\n",
       "      <td>3.1</td>\n",
       "      <td>3.8</td>\n",
       "      <td>2.4</td>\n",
       "      <td>4.1</td>\n",
       "      <td>3.7</td>\n",
       "      <td>2.60</td>\n",
       "      <td>4.2</td>\n",
       "      <td>2.5</td>\n",
       "    </tr>\n",
       "    <tr>\n",
       "      <th>3</th>\n",
       "      <td>April</td>\n",
       "      <td>3.8</td>\n",
       "      <td>3.1</td>\n",
       "      <td>2.4</td>\n",
       "      <td>4.4</td>\n",
       "      <td>2.4</td>\n",
       "      <td>3.8</td>\n",
       "      <td>3.7</td>\n",
       "      <td>2.50</td>\n",
       "      <td>3.6</td>\n",
       "      <td>2.9</td>\n",
       "    </tr>\n",
       "    <tr>\n",
       "      <th>4</th>\n",
       "      <td>May</td>\n",
       "      <td>3.5</td>\n",
       "      <td>3.2</td>\n",
       "      <td>1.9</td>\n",
       "      <td>3.4</td>\n",
       "      <td>2.7</td>\n",
       "      <td>2.7</td>\n",
       "      <td>3.9</td>\n",
       "      <td>2.20</td>\n",
       "      <td>4.5</td>\n",
       "      <td>3.9</td>\n",
       "    </tr>\n",
       "    <tr>\n",
       "      <th>5</th>\n",
       "      <td>June</td>\n",
       "      <td>4.0</td>\n",
       "      <td>3.2</td>\n",
       "      <td>2.7</td>\n",
       "      <td>3.4</td>\n",
       "      <td>3.4</td>\n",
       "      <td>3.0</td>\n",
       "      <td>4.5</td>\n",
       "      <td>2.10</td>\n",
       "      <td>3.8</td>\n",
       "      <td>4.1</td>\n",
       "    </tr>\n",
       "    <tr>\n",
       "      <th>6</th>\n",
       "      <td>July</td>\n",
       "      <td>3.9</td>\n",
       "      <td>3.6</td>\n",
       "      <td>2.0</td>\n",
       "      <td>4.4</td>\n",
       "      <td>3.9</td>\n",
       "      <td>3.7</td>\n",
       "      <td>4.3</td>\n",
       "      <td>1.80</td>\n",
       "      <td>4.0</td>\n",
       "      <td>3.8</td>\n",
       "    </tr>\n",
       "    <tr>\n",
       "      <th>7</th>\n",
       "      <td>August</td>\n",
       "      <td>4.2</td>\n",
       "      <td>3.3</td>\n",
       "      <td>2.8</td>\n",
       "      <td>4.2</td>\n",
       "      <td>2.0</td>\n",
       "      <td>3.7</td>\n",
       "      <td>3.6</td>\n",
       "      <td>1.50</td>\n",
       "      <td>4.4</td>\n",
       "      <td>4.3</td>\n",
       "    </tr>\n",
       "    <tr>\n",
       "      <th>8</th>\n",
       "      <td>September</td>\n",
       "      <td>4.1</td>\n",
       "      <td>2.8</td>\n",
       "      <td>2.5</td>\n",
       "      <td>4.2</td>\n",
       "      <td>2.9</td>\n",
       "      <td>3.7</td>\n",
       "      <td>2.8</td>\n",
       "      <td>2.50</td>\n",
       "      <td>4.0</td>\n",
       "      <td>3.4</td>\n",
       "    </tr>\n",
       "    <tr>\n",
       "      <th>9</th>\n",
       "      <td>October</td>\n",
       "      <td>3.0</td>\n",
       "      <td>3.0</td>\n",
       "      <td>3.1</td>\n",
       "      <td>4.6</td>\n",
       "      <td>3.1</td>\n",
       "      <td>3.3</td>\n",
       "      <td>3.2</td>\n",
       "      <td>2.30</td>\n",
       "      <td>2.5</td>\n",
       "      <td>3.2</td>\n",
       "    </tr>\n",
       "    <tr>\n",
       "      <th>10</th>\n",
       "      <td>November</td>\n",
       "      <td>4.8</td>\n",
       "      <td>3.3</td>\n",
       "      <td>2.7</td>\n",
       "      <td>4.1</td>\n",
       "      <td>2.9</td>\n",
       "      <td>3.6</td>\n",
       "      <td>4.2</td>\n",
       "      <td>3.00</td>\n",
       "      <td>3.1</td>\n",
       "      <td>4.1</td>\n",
       "    </tr>\n",
       "    <tr>\n",
       "      <th>11</th>\n",
       "      <td>December</td>\n",
       "      <td>4.8</td>\n",
       "      <td>4.0</td>\n",
       "      <td>1.9</td>\n",
       "      <td>3.7</td>\n",
       "      <td>4.2</td>\n",
       "      <td>3.6</td>\n",
       "      <td>2.6</td>\n",
       "      <td>2.90</td>\n",
       "      <td>3.6</td>\n",
       "      <td>3.7</td>\n",
       "    </tr>\n",
       "  </tbody>\n",
       "</table>\n",
       "</div>"
      ],
      "text/plain": [
       "   Unnamed: 0  Print   TV  SEO  AdWords  Facebook  LinkedIn  Instagram  \\\n",
       "0     January    4.0  3.6  2.4      3.9       3.0       3.5        3.6   \n",
       "1    February    4.0  3.9  2.7      3.8       4.3       3.2        2.7   \n",
       "2       March    3.5  2.9  3.1      3.8       2.4       4.1        3.7   \n",
       "3       April    3.8  3.1  2.4      4.4       2.4       3.8        3.7   \n",
       "4         May    3.5  3.2  1.9      3.4       2.7       2.7        3.9   \n",
       "5        June    4.0  3.2  2.7      3.4       3.4       3.0        4.5   \n",
       "6        July    3.9  3.6  2.0      4.4       3.9       3.7        4.3   \n",
       "7      August    4.2  3.3  2.8      4.2       2.0       3.7        3.6   \n",
       "8   September    4.1  2.8  2.5      4.2       2.9       3.7        2.8   \n",
       "9     October    3.0  3.0  3.1      4.6       3.1       3.3        3.2   \n",
       "10   November    4.8  3.3  2.7      4.1       2.9       3.6        4.2   \n",
       "11   December    4.8  4.0  1.9      3.7       4.2       3.6        2.6   \n",
       "\n",
       "    Snapchat  Twitter  Email  \n",
       "0       2.25      3.5    3.5  \n",
       "1       1.80      3.7    3.5  \n",
       "2       2.60      4.2    2.5  \n",
       "3       2.50      3.6    2.9  \n",
       "4       2.20      4.5    3.9  \n",
       "5       2.10      3.8    4.1  \n",
       "6       1.80      4.0    3.8  \n",
       "7       1.50      4.4    4.3  \n",
       "8       2.50      4.0    3.4  \n",
       "9       2.30      2.5    3.2  \n",
       "10      3.00      3.1    4.1  \n",
       "11      2.90      3.6    3.7  "
      ]
     },
     "execution_count": 133,
     "metadata": {},
     "output_type": "execute_result"
    }
   ],
   "source": [
    "monthly_roi_df"
   ]
  },
  {
   "cell_type": "code",
   "execution_count": 134,
   "metadata": {},
   "outputs": [
    {
     "data": {
      "text/html": [
       "<div>\n",
       "<style scoped>\n",
       "    .dataframe tbody tr th:only-of-type {\n",
       "        vertical-align: middle;\n",
       "    }\n",
       "\n",
       "    .dataframe tbody tr th {\n",
       "        vertical-align: top;\n",
       "    }\n",
       "\n",
       "    .dataframe thead th {\n",
       "        text-align: right;\n",
       "    }\n",
       "</style>\n",
       "<table border=\"1\" class=\"dataframe\">\n",
       "  <thead>\n",
       "    <tr style=\"text-align: right;\">\n",
       "      <th></th>\n",
       "      <th>print</th>\n",
       "      <th>tv</th>\n",
       "      <th>seo</th>\n",
       "      <th>adwords</th>\n",
       "      <th>facebook</th>\n",
       "      <th>linkedin</th>\n",
       "      <th>instagram</th>\n",
       "      <th>snapchat</th>\n",
       "      <th>twitter</th>\n",
       "      <th>email</th>\n",
       "      <th>Budget</th>\n",
       "      <th>ROI</th>\n",
       "    </tr>\n",
       "  </thead>\n",
       "  <tbody>\n",
       "    <tr>\n",
       "      <th>January</th>\n",
       "      <td>3.000000</td>\n",
       "      <td>0.000000</td>\n",
       "      <td>0.0</td>\n",
       "      <td>1.333333</td>\n",
       "      <td>0.000000</td>\n",
       "      <td>0.0</td>\n",
       "      <td>2.666667</td>\n",
       "      <td>0.0</td>\n",
       "      <td>0.000000</td>\n",
       "      <td>3.000000</td>\n",
       "      <td>10.000000</td>\n",
       "      <td>0.373000</td>\n",
       "    </tr>\n",
       "    <tr>\n",
       "      <th>February</th>\n",
       "      <td>3.000000</td>\n",
       "      <td>0.000000</td>\n",
       "      <td>0.0</td>\n",
       "      <td>2.395500</td>\n",
       "      <td>3.000000</td>\n",
       "      <td>0.0</td>\n",
       "      <td>0.000000</td>\n",
       "      <td>0.0</td>\n",
       "      <td>1.791000</td>\n",
       "      <td>0.000000</td>\n",
       "      <td>10.186500</td>\n",
       "      <td>0.406296</td>\n",
       "    </tr>\n",
       "    <tr>\n",
       "      <th>March</th>\n",
       "      <td>0.000000</td>\n",
       "      <td>0.000000</td>\n",
       "      <td>0.0</td>\n",
       "      <td>3.000000</td>\n",
       "      <td>0.000000</td>\n",
       "      <td>3.0</td>\n",
       "      <td>1.203148</td>\n",
       "      <td>0.0</td>\n",
       "      <td>3.000000</td>\n",
       "      <td>0.000000</td>\n",
       "      <td>10.203148</td>\n",
       "      <td>0.407516</td>\n",
       "    </tr>\n",
       "    <tr>\n",
       "      <th>April</th>\n",
       "      <td>0.000000</td>\n",
       "      <td>0.000000</td>\n",
       "      <td>0.0</td>\n",
       "      <td>3.000000</td>\n",
       "      <td>0.000000</td>\n",
       "      <td>3.0</td>\n",
       "      <td>3.000000</td>\n",
       "      <td>0.0</td>\n",
       "      <td>1.203758</td>\n",
       "      <td>0.000000</td>\n",
       "      <td>10.203758</td>\n",
       "      <td>0.400335</td>\n",
       "    </tr>\n",
       "    <tr>\n",
       "      <th>May</th>\n",
       "      <td>1.200168</td>\n",
       "      <td>0.000000</td>\n",
       "      <td>0.0</td>\n",
       "      <td>0.000000</td>\n",
       "      <td>0.000000</td>\n",
       "      <td>0.0</td>\n",
       "      <td>3.000000</td>\n",
       "      <td>0.0</td>\n",
       "      <td>3.000000</td>\n",
       "      <td>3.000000</td>\n",
       "      <td>10.200168</td>\n",
       "      <td>0.411006</td>\n",
       "    </tr>\n",
       "    <tr>\n",
       "      <th>June</th>\n",
       "      <td>3.000000</td>\n",
       "      <td>0.000000</td>\n",
       "      <td>0.0</td>\n",
       "      <td>0.000000</td>\n",
       "      <td>0.000000</td>\n",
       "      <td>0.0</td>\n",
       "      <td>3.000000</td>\n",
       "      <td>0.0</td>\n",
       "      <td>1.205503</td>\n",
       "      <td>3.000000</td>\n",
       "      <td>10.205503</td>\n",
       "      <td>0.423809</td>\n",
       "    </tr>\n",
       "    <tr>\n",
       "      <th>July</th>\n",
       "      <td>0.000000</td>\n",
       "      <td>0.000000</td>\n",
       "      <td>0.0</td>\n",
       "      <td>3.000000</td>\n",
       "      <td>1.211905</td>\n",
       "      <td>0.0</td>\n",
       "      <td>3.000000</td>\n",
       "      <td>0.0</td>\n",
       "      <td>3.000000</td>\n",
       "      <td>0.000000</td>\n",
       "      <td>10.211905</td>\n",
       "      <td>0.428264</td>\n",
       "    </tr>\n",
       "    <tr>\n",
       "      <th>August</th>\n",
       "      <td>2.714132</td>\n",
       "      <td>0.000000</td>\n",
       "      <td>0.0</td>\n",
       "      <td>1.500000</td>\n",
       "      <td>0.000000</td>\n",
       "      <td>0.0</td>\n",
       "      <td>0.000000</td>\n",
       "      <td>0.0</td>\n",
       "      <td>3.000000</td>\n",
       "      <td>3.000000</td>\n",
       "      <td>10.214132</td>\n",
       "      <td>0.437994</td>\n",
       "    </tr>\n",
       "    <tr>\n",
       "      <th>September</th>\n",
       "      <td>0.609498</td>\n",
       "      <td>0.000000</td>\n",
       "      <td>0.0</td>\n",
       "      <td>3.000000</td>\n",
       "      <td>0.000000</td>\n",
       "      <td>3.0</td>\n",
       "      <td>0.000000</td>\n",
       "      <td>0.0</td>\n",
       "      <td>3.000000</td>\n",
       "      <td>0.609498</td>\n",
       "      <td>10.218997</td>\n",
       "      <td>0.402712</td>\n",
       "    </tr>\n",
       "    <tr>\n",
       "      <th>October</th>\n",
       "      <td>0.000000</td>\n",
       "      <td>0.000000</td>\n",
       "      <td>0.0</td>\n",
       "      <td>3.000000</td>\n",
       "      <td>0.000000</td>\n",
       "      <td>3.0</td>\n",
       "      <td>3.000000</td>\n",
       "      <td>0.0</td>\n",
       "      <td>0.000000</td>\n",
       "      <td>1.201356</td>\n",
       "      <td>10.201356</td>\n",
       "      <td>0.371443</td>\n",
       "    </tr>\n",
       "    <tr>\n",
       "      <th>November</th>\n",
       "      <td>3.000000</td>\n",
       "      <td>0.000000</td>\n",
       "      <td>0.0</td>\n",
       "      <td>1.185722</td>\n",
       "      <td>0.000000</td>\n",
       "      <td>0.0</td>\n",
       "      <td>3.000000</td>\n",
       "      <td>0.0</td>\n",
       "      <td>0.000000</td>\n",
       "      <td>3.000000</td>\n",
       "      <td>10.185722</td>\n",
       "      <td>0.441615</td>\n",
       "    </tr>\n",
       "    <tr>\n",
       "      <th>December</th>\n",
       "      <td>3.000000</td>\n",
       "      <td>2.110404</td>\n",
       "      <td>0.0</td>\n",
       "      <td>0.000000</td>\n",
       "      <td>3.000000</td>\n",
       "      <td>0.0</td>\n",
       "      <td>0.000000</td>\n",
       "      <td>0.0</td>\n",
       "      <td>0.000000</td>\n",
       "      <td>2.110404</td>\n",
       "      <td>10.220807</td>\n",
       "      <td>0.432501</td>\n",
       "    </tr>\n",
       "  </tbody>\n",
       "</table>\n",
       "</div>"
      ],
      "text/plain": [
       "              print        tv  seo   adwords  facebook  linkedin  instagram  \\\n",
       "January    3.000000  0.000000  0.0  1.333333  0.000000       0.0   2.666667   \n",
       "February   3.000000  0.000000  0.0  2.395500  3.000000       0.0   0.000000   \n",
       "March      0.000000  0.000000  0.0  3.000000  0.000000       3.0   1.203148   \n",
       "April      0.000000  0.000000  0.0  3.000000  0.000000       3.0   3.000000   \n",
       "May        1.200168  0.000000  0.0  0.000000  0.000000       0.0   3.000000   \n",
       "June       3.000000  0.000000  0.0  0.000000  0.000000       0.0   3.000000   \n",
       "July       0.000000  0.000000  0.0  3.000000  1.211905       0.0   3.000000   \n",
       "August     2.714132  0.000000  0.0  1.500000  0.000000       0.0   0.000000   \n",
       "September  0.609498  0.000000  0.0  3.000000  0.000000       3.0   0.000000   \n",
       "October    0.000000  0.000000  0.0  3.000000  0.000000       3.0   3.000000   \n",
       "November   3.000000  0.000000  0.0  1.185722  0.000000       0.0   3.000000   \n",
       "December   3.000000  2.110404  0.0  0.000000  3.000000       0.0   0.000000   \n",
       "\n",
       "           snapchat   twitter     email     Budget       ROI  \n",
       "January         0.0  0.000000  3.000000  10.000000  0.373000  \n",
       "February        0.0  1.791000  0.000000  10.186500  0.406296  \n",
       "March           0.0  3.000000  0.000000  10.203148  0.407516  \n",
       "April           0.0  1.203758  0.000000  10.203758  0.400335  \n",
       "May             0.0  3.000000  3.000000  10.200168  0.411006  \n",
       "June            0.0  1.205503  3.000000  10.205503  0.423809  \n",
       "July            0.0  3.000000  0.000000  10.211905  0.428264  \n",
       "August          0.0  3.000000  3.000000  10.214132  0.437994  \n",
       "September       0.0  3.000000  0.609498  10.218997  0.402712  \n",
       "October         0.0  0.000000  1.201356  10.201356  0.371443  \n",
       "November        0.0  0.000000  3.000000  10.185722  0.441615  \n",
       "December        0.0  0.000000  2.110404  10.220807  0.432501  "
      ]
     },
     "execution_count": 134,
     "metadata": {},
     "output_type": "execute_result"
    }
   ],
   "source": [
    "def optimize_allocation(monthly_roi_df, initial_budget):\n",
    "    \n",
    "    # Convert column names to lowercase for case-insensitive matching\n",
    "    monthly_roi_df.columns = monthly_roi_df.columns.str.lower()\n",
    "\n",
    "    monthly_allocation = {}\n",
    "    budget = initial_budget\n",
    "    base_budget = initial_budget\n",
    "\n",
    "    # Extract column names for decision variables\n",
    "    var_names = monthly_roi_df.columns[1:].tolist()\n",
    "\n",
    "    for i in range(len(monthly_roi_df)):\n",
    "        # Create a dictionary mapping column names to their respective ROI values\n",
    "        roi_dict = dict(zip(var_names, monthly_roi_df.iloc[i][1:].values * 0.01))\n",
    "        \n",
    "        # Initiate model\n",
    "        adver_mod = gp.Model()\n",
    "\n",
    "        # Specify number of decision variables and assign names\n",
    "        adver_mod_x = adver_mod.addMVar(len(var_names), ub=3, name=var_names)\n",
    "        \n",
    "        # Create a dictionary to map variable names to the decision variable objects\n",
    "        var_dict = {name: adver_mod_x[j] for j, name in enumerate(var_names)}\n",
    "        \n",
    "        # Set objective using the roi_dict\n",
    "        adver_mod.setObjective(gp.quicksum(roi_dict[name] * var_dict[name] for name in var_names), sense=gp.GRB.MAXIMIZE)\n",
    "\n",
    "        # Add constraints\n",
    "        adver_mod.addConstr(gp.quicksum(var_dict[name] for name in var_names) <= budget)  # Marketing Budget\n",
    "        adver_mod.addConstr(var_dict['print'] + var_dict['tv'] - var_dict['facebook'] - var_dict['email'] <= 0)  # Print & TV Budget Constraint\n",
    "        adver_mod.addConstr(gp.quicksum(var_dict[social] for social in ['facebook', 'linkedin', 'instagram', 'snapchat', 'twitter'] if social in var_names ) >= 2 * var_dict['seo'] + 2 * var_dict['adwords'])  # Social Media Budget Constraint \n",
    "        \n",
    "        adver_mod.Params.OutputFlag = 0\n",
    "        \n",
    "        # Optimize the model\n",
    "        adver_mod.optimize()\n",
    "        \n",
    "        optimal_allocations = list(adver_mod_x.x)\n",
    "        optimal_allocations.extend([budget, adver_mod.objVal])\n",
    "\n",
    "        # Update marketing budget\n",
    "        budget = base_budget + 0.5 * adver_mod.objVal\n",
    "        \n",
    "        monthly_allocation[monthly_roi_df.iloc[i][0]] = optimal_allocations\n",
    "\n",
    "    allocation_df = pd.DataFrame.from_dict(monthly_allocation, orient='index')\n",
    "    allocation_df.columns = var_names + ['Budget', 'ROI']\n",
    "\n",
    "    return allocation_df\n",
    "\n",
    "allocation_df = optimize_allocation(monthly_roi_df, initial_budget=10)\n",
    "allocation_df"
   ]
  },
  {
   "cell_type": "code",
   "execution_count": 135,
   "metadata": {},
   "outputs": [
    {
     "data": {
      "image/png": "[encoded data removed]",
      "text/plain": [
       "<Figure size 936x504 with 1 Axes>"
      ]
     },
     "metadata": {
      "needs_background": "light"
     },
     "output_type": "display_data"
    }
   ],
   "source": [
    "# Determine the number of platforms\n",
    "n_platforms = len(allocation_df.columns[:-2])\n",
    "\n",
    "# Convert the investments to percentages\n",
    "percentage_df = allocation_df[allocation_df.columns[:-2]].divide(allocation_df['Budget'], axis=0) * 100\n",
    "\n",
    "color_palette = sns.color_palette(\"Set3\", n_platforms)\n",
    "\n",
    "plt.figure(figsize=(13, 7))\n",
    "\n",
    "# Plotting the stacked bar chart\n",
    "bottom_values = [0] * len(percentage_df.index)\n",
    "for i, platform in enumerate(percentage_df.columns):\n",
    "    plt.bar(percentage_df.index, percentage_df[platform], bottom=bottom_values, color=color_palette[i], label=platform)\n",
    "    bottom_values = [sum(values) for values in zip(bottom_values, percentage_df[platform])]\n",
    "\n",
    "plt.title('Investment Over Months (as percentages)')\n",
    "plt.xlabel('Month')\n",
    "plt.ylabel('Investment (%)')\n",
    "plt.grid(axis='y', linestyle='--', alpha=0.7)\n",
    "plt.xticks(rotation=0)\n",
    "\n",
    "plt.legend(loc='upper left', bbox_to_anchor=(1, 1))\n",
    "\n",
    "# Adjust the plot size to make room for the legend\n",
    "# plt.subplots_adjust(right=0.7)\n",
    "\n",
    "plt.ylim(0, 105)\n",
    "\n",
    "plt.tight_layout()\n",
    "\n",
    "# To save the plot as an image\n",
    "# plt.savefig(\"platform_investments_stacked_bar_percentage.png\", dpi=300)\n",
    "\n",
    "plt.show()"
   ]
  },
  {
   "cell_type": "code",
   "execution_count": 136,
   "metadata": {},
   "outputs": [
    {
     "data": {
      "image/png": "[encoded data removed]",
      "text/plain": [
       "<Figure size 1440x576 with 2 Axes>"
      ]
     },
     "metadata": {
      "needs_background": "light"
     },
     "output_type": "display_data"
    }
   ],
   "source": [
    "color = sns.color_palette(\"coolwarm\", 10)[-2]\n",
    "\n",
    "fig, axes = plt.subplots(1, 2, figsize=(20, 8))\n",
    "\n",
    "# Plot for Budget over months using a line graph\n",
    "sns.lineplot(x=allocation_df.index, y=allocation_df['Budget'], color=color, marker=\"o\", ax=axes[0])\n",
    "axes[0].set_title('Budget Over Months')\n",
    "axes[0].set_ylabel('Budget (in millions)')\n",
    "axes[0].set_xlabel('Month')\n",
    "axes[0].grid(axis='y', linestyle='--', alpha=0.7)\n",
    "axes[0].set_xticks(allocation_df.index)\n",
    "axes[0].set_xticklabels(allocation_df.index, rotation=45)\n",
    "axes[0].set_ylim(0, allocation_df['Budget'].max() + 0.1 * allocation_df['Budget'].max())\n",
    "\n",
    "# Plot for ROI over months using a line graph\n",
    "sns.lineplot(x=allocation_df.index, y=allocation_df['ROI'], color=color, marker=\"o\", ax=axes[1])\n",
    "axes[1].set_title('ROI Over Months')\n",
    "axes[1].set_ylabel('ROI (in millions)')\n",
    "axes[1].set_xlabel('Month')\n",
    "axes[1].grid(axis='y', linestyle='--', alpha=0.7)\n",
    "axes[1].set_xticks(allocation_df.index)\n",
    "axes[1].set_xticklabels(allocation_df.index, rotation=45)\n",
    "axes[1].set_ylim(0, allocation_df['ROI'].max() + 0.1 * allocation_df['ROI'].max())\n",
    "\n",
    "sns.despine(ax=axes[0])\n",
    "sns.despine(ax=axes[1])\n",
    "\n",
    "plt.tight_layout()\n",
    "\n",
    "# To save the plot as an image\n",
    "# plt.savefig(\"monthly_trends.png\", dpi=300)\n",
    "\n",
    "plt.show()"
   ]
  },
  {
   "cell_type": "markdown",
   "metadata": {},
   "source": [
    "### Acknowledgements\n",
    "\n",
    "For assistance with data visualization and related code in this notebook, we referred ChatGPT, lecture slides, and notebooks"
   ]
  },
  {
   "cell_type": "markdown",
   "metadata": {},
   "source": [
    "**Note:** We interpreted these constraints as if every column listed in the constraints will exist in the input data. We interpreted social media platforms as if it were an umbrella term, and added functionality to still compute the optimal solution if one of these platforms is deleted. However, since there is no way in the input file to identify if something is a social media, we did not support adding in a new social media platform to fall in this umbrella."
   ]
  }
 ],
 "metadata": {
  "kernelspec": {
   "display_name": "Python 3",
   "language": "python",
   "name": "python3"
  },
  "language_info": {
   "codemirror_mode": {
    "name": "ipython",
    "version": 3
   },
   "file_extension": ".py",
   "mimetype": "text/x-python",
   "name": "python",
   "nbconvert_exporter": "python",
   "pygments_lexer": "ipython3",
   "version": "3.7.4"
  }
 },
 "nbformat": 4,
 "nbformat_minor": 2
}
